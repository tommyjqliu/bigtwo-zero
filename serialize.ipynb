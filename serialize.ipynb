{
 "cells": [
  {
   "cell_type": "code",
   "execution_count": 1,
   "metadata": {},
   "outputs": [
    {
     "name": "stderr",
     "output_type": "stream",
     "text": [
      "/tmp/ipykernel_284181/2237800986.py:5: FutureWarning: You are using `torch.load` with `weights_only=False` (the current default value), which uses the default pickle module implicitly. It is possible to construct malicious pickle data which will execute arbitrary code during unpickling (See https://github.com/pytorch/pytorch/blob/main/SECURITY.md#untrusted-models for more details). In a future release, the default value for `weights_only` will be flipped to `True`. This limits the functions that could be executed during unpickling. Arbitrary objects will no longer be allowed to be loaded via this mode unless they are explicitly allowlisted by the user via `torch.serialization.add_safe_globals`. We recommend you start setting `weights_only=True` for any use case where you don't have full control of the loaded file. Please open an issue on GitHub for any issues related to this experimental feature.\n",
      "  checkpoint = torch.load('checkpoints/bigtwo376-initial_20240923_150604.pth')\n"
     ]
    }
   ],
   "source": [
    "import torch\n",
    "\n",
    "# checkpoint = torch.load('checkpoints/bigtwo156-3_20240923_100203.pth')\n",
    "\n",
    "checkpoint = torch.load('checkpoints/bigtwo376-initial_20240923_150604.pth')"
   ]
  },
  {
   "cell_type": "code",
   "execution_count": 9,
   "metadata": {},
   "outputs": [
    {
     "name": "stdout",
     "output_type": "stream",
     "text": [
      "odict_keys(['lstm.weight_ih_l0', 'lstm.weight_hh_l0', 'lstm.bias_ih_l0', 'lstm.bias_hh_l0', 'dense1.weight', 'dense1.bias', 'dense2.weight', 'dense2.bias', 'dense3.weight', 'dense3.bias'])\n"
     ]
    }
   ],
   "source": [
    "print(checkpoint[\"model_state_dict\"].keys())"
   ]
  },
  {
   "cell_type": "code",
   "execution_count": 8,
   "metadata": {},
   "outputs": [
    {
     "name": "stdout",
     "output_type": "stream",
     "text": [
      "torch.Size([256, 208])\n",
      "torch.Size([256, 64])\n",
      "torch.Size([256])\n",
      "torch.Size([256])\n",
      "torch.Size([256, 376])\n",
      "torch.Size([256])\n",
      "torch.Size([128, 256])\n",
      "torch.Size([128])\n",
      "torch.Size([1, 128])\n",
      "torch.Size([1])\n"
     ]
    }
   ],
   "source": [
    "for k in checkpoint[\"model_state_dict\"].keys():\n",
    "    print(checkpoint[\"model_state_dict\"][k].shape)"
   ]
  },
  {
   "cell_type": "code",
   "execution_count": 1,
   "metadata": {},
   "outputs": [],
   "source": [
    "from agents.bigtwo312 import Bigtwo312\n",
    "\n",
    "\n",
    "model = Bigtwo312('cpu')"
   ]
  },
  {
   "cell_type": "code",
   "execution_count": 4,
   "metadata": {},
   "outputs": [],
   "source": [
    "import json\n",
    "state_dict = model.state_dict()\n",
    "\n",
    "\n",
    "def round_list(arr):\n",
    "    if isinstance(arr[0], list):\n",
    "        return [round_list(sub_arr) for sub_arr in arr]\n",
    "    else:\n",
    "        return [round(item, 5) for item in arr]\n",
    "\n",
    "\n",
    "# Convert to JSON-serializable format (convert tensors to lists)\n",
    "state_dict_serializable = {\n",
    "    key: round_list(value.tolist()) for key, value in state_dict.items()\n",
    "    # key: value.tolist() for key, value in state_dict.items()\n",
    "}\n",
    "\n",
    "# Save as JSON\n",
    "with open(\"state_dict.json\", \"w\") as f:\n",
    "    json.dump(state_dict_serializable, f, separators=(\",\", \":\"))"
   ]
  },
  {
   "cell_type": "code",
   "execution_count": 27,
   "metadata": {},
   "outputs": [
    {
     "name": "stdout",
     "output_type": "stream",
     "text": [
      "0\n",
      "200\n",
      "400\n",
      "600\n",
      "800\n"
     ]
    }
   ],
   "source": [
    "for j in range(1000):\n",
    "    if j % 200 == 0:\n",
    "        print(j)"
   ]
  },
  {
   "cell_type": "code",
   "execution_count": 1,
   "metadata": {},
   "outputs": [],
   "source": [
    "from competition.algorithm import Algorithm\n",
    "\n",
    "\n",
    "alg = Algorithm()"
   ]
  },
  {
   "cell_type": "code",
   "execution_count": 2,
   "metadata": {},
   "outputs": [],
   "source": [
    "m = alg.load_model()"
   ]
  },
  {
   "cell_type": "code",
   "execution_count": 5,
   "metadata": {},
   "outputs": [
    {
     "data": {
      "text/plain": [
       "array([[0.91095431],\n",
       "       [1.92492155],\n",
       "       [1.50727346]])"
      ]
     },
     "execution_count": 5,
     "metadata": {},
     "output_type": "execute_result"
    }
   ],
   "source": [
    "import numpy as np\n",
    "\n",
    "m.forward(np.random.rand(3,156).astype(np.float32))"
   ]
  },
  {
   "cell_type": "code",
   "execution_count": 6,
   "metadata": {},
   "outputs": [
    {
     "data": {
      "text/plain": [
       "array([2, 3, 4])"
      ]
     },
     "execution_count": 6,
     "metadata": {},
     "output_type": "execute_result"
    }
   ],
   "source": [
    "np.array([1,2,3]) + 1"
   ]
  }
 ],
 "metadata": {
  "kernelspec": {
   "display_name": "bigtwo-zero",
   "language": "python",
   "name": "python3"
  },
  "language_info": {
   "codemirror_mode": {
    "name": "ipython",
    "version": 3
   },
   "file_extension": ".py",
   "mimetype": "text/x-python",
   "name": "python",
   "nbconvert_exporter": "python",
   "pygments_lexer": "ipython3",
   "version": "3.12.0"
  }
 },
 "nbformat": 4,
 "nbformat_minor": 2
}
