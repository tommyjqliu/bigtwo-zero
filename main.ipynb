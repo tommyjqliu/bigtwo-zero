{
 "cells": [
  {
   "cell_type": "code",
   "execution_count": 1,
   "metadata": {},
   "outputs": [],
   "source": [
    "from env.env import BigtwoEnv\n",
    "import numpy as np\n",
    "import torch\n",
    "import random\n",
    "\n",
    "from torch import nn\n",
    "\n",
    "\n",
    "class BigtwoModel(nn.Module):\n",
    "    def __init__(self, device):\n",
    "        super().__init__()\n",
    "        self.device = torch.device(device)\n",
    "        self.dense1 = nn.Linear(52 + 52 + 52, 256)\n",
    "        self.dense2 = nn.Linear(256, 128)\n",
    "        self.dense3 = nn.Linear(128, 1)\n",
    "        self.to(self.device)\n",
    "\n",
    "    def forward(self, x, return_value=False, flags=None):\n",
    "\n",
    "        x = self.dense1(x)\n",
    "        x = torch.relu(x)\n",
    "        x = self.dense2(x)\n",
    "        x = torch.relu(x)\n",
    "        x = self.dense3(x)\n",
    "        if return_value:\n",
    "            return dict(values=x)\n",
    "        else:\n",
    "            if (\n",
    "                flags is not None\n",
    "                and flags.exp_epsilon > 0\n",
    "                and np.random.rand() < flags.exp_epsilon\n",
    "            ):\n",
    "                action = torch.randint(x.shape[0], (1,))[0]\n",
    "            else:\n",
    "                action = torch.argmax(x, dim=0)[0]\n",
    "            return dict(action=action)\n",
    "\n",
    "env = BigtwoEnv()\n",
    "model0 = BigtwoModel(\"cuda:0\")\n",
    "optimizer0 = torch.optim.Adam(model0.parameters(), lr=0.001)\n",
    "model1 = BigtwoModel(\"cuda:0\")\n",
    "optimizer1 = torch.optim.Adam(model1.parameters(), lr=0.001)\n",
    "\n"
   ]
  },
  {
   "cell_type": "code",
   "execution_count": 2,
   "metadata": {},
   "outputs": [
    {
     "name": "stdout",
     "output_type": "stream",
     "text": [
      "0.26 0.05\n",
      "0.39 0.05\n"
     ]
    },
    {
     "ename": "KeyboardInterrupt",
     "evalue": "",
     "output_type": "error",
     "traceback": [
      "\u001b[0;31m---------------------------------------------------------------------------\u001b[0m",
      "\u001b[0;31mKeyboardInterrupt\u001b[0m                         Traceback (most recent call last)",
      "Cell \u001b[0;32mIn[2], line 26\u001b[0m\n\u001b[1;32m     24\u001b[0m     \u001b[38;5;28;01melse\u001b[39;00m:\n\u001b[1;32m     25\u001b[0m         action \u001b[38;5;241m=\u001b[39m random\u001b[38;5;241m.\u001b[39mchoice(obs\u001b[38;5;241m.\u001b[39mlegal_actions)\n\u001b[0;32m---> 26\u001b[0m     obs \u001b[38;5;241m=\u001b[39m \u001b[43menv\u001b[49m\u001b[38;5;241;43m.\u001b[39;49m\u001b[43mstep\u001b[49m\u001b[43m(\u001b[49m\u001b[43maction\u001b[49m\u001b[43m)\u001b[49m\u001b[38;5;241;43m.\u001b[39;49m\u001b[43mto_tensor\u001b[49m\u001b[43m(\u001b[49m\u001b[38;5;124;43m\"\u001b[39;49m\u001b[38;5;124;43mcuda:0\u001b[39;49m\u001b[38;5;124;43m\"\u001b[39;49m\u001b[43m)\u001b[49m\n\u001b[1;32m     27\u001b[0m result0\u001b[38;5;241m.\u001b[39mappend(obs\u001b[38;5;241m.\u001b[39mwinner \u001b[38;5;241m==\u001b[39m \u001b[38;5;241m0\u001b[39m)\n\u001b[1;32m     28\u001b[0m record0\u001b[38;5;241m.\u001b[39mappend(row0)\n",
      "File \u001b[0;32m~/repository/bigtwo-zero/env/env.py:79\u001b[0m, in \u001b[0;36mObservation.to_tensor\u001b[0;34m(self, device)\u001b[0m\n\u001b[1;32m     78\u001b[0m \u001b[38;5;28;01mdef\u001b[39;00m \u001b[38;5;21mto_tensor\u001b[39m(\u001b[38;5;28mself\u001b[39m, device):\n\u001b[0;32m---> 79\u001b[0m     \u001b[38;5;28;01mreturn\u001b[39;00m \u001b[43mTensorObservation\u001b[49m\u001b[43m(\u001b[49m\u001b[38;5;28;43mself\u001b[39;49m\u001b[43m,\u001b[49m\u001b[43m \u001b[49m\u001b[43mdevice\u001b[49m\u001b[43m)\u001b[49m\n",
      "File \u001b[0;32m~/repository/bigtwo-zero/env/env.py:95\u001b[0m, in \u001b[0;36mTensorObservation.__init__\u001b[0;34m(self, obs, device)\u001b[0m\n\u001b[1;32m     91\u001b[0m \u001b[38;5;28mself\u001b[39m\u001b[38;5;241m.\u001b[39mx_batch \u001b[38;5;241m=\u001b[39m torch\u001b[38;5;241m.\u001b[39mtensor(obs\u001b[38;5;241m.\u001b[39mx_batch, dtype\u001b[38;5;241m=\u001b[39mtorch\u001b[38;5;241m.\u001b[39mfloat32)\u001b[38;5;241m.\u001b[39mto(device)\n\u001b[1;32m     92\u001b[0m \u001b[38;5;28mself\u001b[39m\u001b[38;5;241m.\u001b[39mz_batch \u001b[38;5;241m=\u001b[39m torch\u001b[38;5;241m.\u001b[39mtensor(obs\u001b[38;5;241m.\u001b[39mz_batch, dtype\u001b[38;5;241m=\u001b[39mtorch\u001b[38;5;241m.\u001b[39mfloat32)\u001b[38;5;241m.\u001b[39mto(device)\n\u001b[1;32m     93\u001b[0m \u001b[38;5;28mself\u001b[39m\u001b[38;5;241m.\u001b[39mlegal_action_codes \u001b[38;5;241m=\u001b[39m \u001b[43mtorch\u001b[49m\u001b[38;5;241;43m.\u001b[39;49m\u001b[43mtensor\u001b[49m\u001b[43m(\u001b[49m\n\u001b[1;32m     94\u001b[0m \u001b[43m    \u001b[49m\u001b[43mobs\u001b[49m\u001b[38;5;241;43m.\u001b[39;49m\u001b[43mlegal_action_codes\u001b[49m\u001b[43m,\u001b[49m\u001b[43m \u001b[49m\u001b[43mdtype\u001b[49m\u001b[38;5;241;43m=\u001b[39;49m\u001b[43mtorch\u001b[49m\u001b[38;5;241;43m.\u001b[39;49m\u001b[43mfloat32\u001b[49m\n\u001b[0;32m---> 95\u001b[0m \u001b[43m\u001b[49m\u001b[43m)\u001b[49m\u001b[38;5;241;43m.\u001b[39;49m\u001b[43mto\u001b[49m\u001b[43m(\u001b[49m\u001b[43mdevice\u001b[49m\u001b[43m)\u001b[49m\n",
      "\u001b[0;31mKeyboardInterrupt\u001b[0m: "
     ]
    }
   ],
   "source": [
    "for _ in range(1000):\n",
    "    game_num = 100\n",
    "    record0 = []\n",
    "    result0 = []\n",
    "    record1 = []\n",
    "    result1 = []\n",
    "    obs = env.reset().to_tensor(\"cuda:0\")\n",
    "    for i in range(game_num):\n",
    "        row0 = []\n",
    "        row1 = []\n",
    "        while not obs.done:\n",
    "            if obs.player_to_act == 0:\n",
    "                with torch.no_grad():\n",
    "                    output = model0(obs.x_batch)\n",
    "                action_index = output[\"action\"]\n",
    "                action = obs.legal_actions[action_index]\n",
    "                row0.append(obs.x_batch[action_index])\n",
    "            if obs.player_to_act == 1:\n",
    "                with torch.no_grad():\n",
    "                    output = model1(obs.x_batch)\n",
    "                action_index = output[\"action\"]\n",
    "                action = obs.legal_actions[action_index]\n",
    "                row1.append(obs.x_batch[action_index])\n",
    "            else:\n",
    "                action = random.choice(obs.legal_actions)\n",
    "            obs = env.step(action).to_tensor(\"cuda:0\")\n",
    "        result0.append(obs.winner == 0)\n",
    "        record0.append(row0)\n",
    "        result1.append(obs.winner == 1)\n",
    "        record1.append(row1)\n",
    "        obs = env.reset().to_tensor(\"cuda:0\")\n",
    "    print(np.mean(result0), np.mean(result1))\n",
    "    for index, row0 in enumerate(record0):\n",
    "        optimizer0.zero_grad()\n",
    "        x_batch = torch.stack(row0)\n",
    "        output = model0(x_batch, return_value=True)\n",
    "        y_batch = torch.ones(x_batch.shape[0], 1).to(\"cuda:0\") * result0[index]\n",
    "        loss = torch.nn.functional.mse_loss(output[\"values\"], y_batch)\n",
    "        loss.backward()\n",
    "        optimizer0.step()\n",
    "    for index, row1 in enumerate(record1):\n",
    "        optimizer1.zero_grad()\n",
    "        x_batch = torch.stack(row1)\n",
    "        output = model1(x_batch, return_value=True)\n",
    "        y_batch = torch.ones(x_batch.shape[0], 1).to(\"cuda:0\") * result1[index]\n",
    "        loss = torch.nn.functional.mse_loss(output[\"values\"], y_batch)\n",
    "        loss.backward()\n",
    "        optimizer1.step()"
   ]
  },
  {
   "cell_type": "code",
   "execution_count": null,
   "metadata": {},
   "outputs": [],
   "source": []
  },
  {
   "cell_type": "code",
   "execution_count": 3,
   "metadata": {},
   "outputs": [
    {
     "data": {
      "text/plain": [
       "0"
      ]
     },
     "execution_count": 3,
     "metadata": {},
     "output_type": "execute_result"
    }
   ],
   "source": [
    "game.winner"
   ]
  },
  {
   "cell_type": "code",
   "execution_count": 3,
   "metadata": {},
   "outputs": [
    {
     "name": "stdout",
     "output_type": "stream",
     "text": [
      "Model and optimizer saved as checkpoints/bigtwo_model3_20240923_004149.pth\n"
     ]
    }
   ],
   "source": [
    "from utils.checkpoint import checkpoint\n",
    "\n",
    "\n",
    "checkpoint(model1, optimizer1, \"bigtwo_model3\")"
   ]
  }
 ],
 "metadata": {
  "kernelspec": {
   "display_name": "bigtwo-zero",
   "language": "python",
   "name": "python3"
  },
  "language_info": {
   "codemirror_mode": {
    "name": "ipython",
    "version": 3
   },
   "file_extension": ".py",
   "mimetype": "text/x-python",
   "name": "python",
   "nbconvert_exporter": "python",
   "pygments_lexer": "ipython3",
   "version": "3.12.0"
  }
 },
 "nbformat": 4,
 "nbformat_minor": 2
}
