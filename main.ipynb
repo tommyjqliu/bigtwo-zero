{
 "cells": [
  {
   "cell_type": "code",
   "execution_count": 1,
   "metadata": {},
   "outputs": [],
   "source": [
    "import torch\n",
    "from agents.bigtwo312 import Agent312\n",
    "from agents.random import RandomAgent\n",
    "from env.game import Bigtwo\n",
    "\n",
    "torch.manual_seed(0)\n",
    "torch.cuda.manual_seed(0)\n",
    "game = Bigtwo(42)\n",
    "\n",
    "agents = [\n",
    "    Agent312(\"cuda:0\"),\n",
    "    Agent312(\"cuda:0\"),\n",
    "    Agent312(\"cuda:0\"),\n",
    "    Agent312(\"cuda:0\"),\n",
    "]"
   ]
  },
  {
   "cell_type": "code",
   "execution_count": 2,
   "metadata": {},
   "outputs": [
    {
     "name": "stdout",
     "output_type": "stream",
     "text": [
      "[14, 37, 9, 40]\n",
      "[0.3476468622684479, 0, 0.2874552011489868, 0]\n",
      "[8, 43, 5, 44]\n",
      "[0.20955629646778107, 0, 0.1431303173303604, 0]\n",
      "[4, 47, 10, 39]\n",
      "[0.12160143256187439, 0, 0.4062098562717438, 0]\n",
      "[6, 44, 15, 35]\n",
      "[0.1692897379398346, 0, 0.45438897609710693, 0]\n",
      "[11, 33, 25, 31]\n",
      "[0.2003515660762787, 0, 0.5013326406478882, 0]\n",
      "[23, 26, 24, 27]\n",
      "[0.39027395844459534, 0, 0.4389689564704895, 0]\n",
      "[29, 28, 18, 25]\n",
      "[0.4252393841743469, 0, 0.31635165214538574, 0]\n",
      "[25, 25, 30, 20]\n",
      "[0.3171275854110718, 0, 0.6222104430198669, 0]\n",
      "[19, 32, 29, 20]\n",
      "[0.26699280738830566, 0, 0.4501281678676605, 0]\n",
      "[29, 16, 34, 21]\n",
      "[0.5274126529693604, 0, 0.5056752562522888, 0]\n",
      "[26, 17, 37, 20]\n",
      "[0.40202006697654724, 0, 0.4951411187648773, 0]\n",
      "[35, 15, 31, 19]\n",
      "[0.473725289106369, 0, 0.607631504535675, 0]\n",
      "[41, 15, 27, 17]\n",
      "[0.6662086248397827, 0, 0.46831175684928894, 0]\n",
      "[32, 15, 40, 13]\n",
      "[0.4964134693145752, 0, 0.7359668016433716, 0]\n"
     ]
    },
    {
     "ename": "KeyboardInterrupt",
     "evalue": "",
     "output_type": "error",
     "traceback": [
      "\u001b[0;31m---------------------------------------------------------------------------\u001b[0m",
      "\u001b[0;31mKeyboardInterrupt\u001b[0m                         Traceback (most recent call last)",
      "Cell \u001b[0;32mIn[2], line 7\u001b[0m\n\u001b[1;32m      5\u001b[0m game\u001b[38;5;241m.\u001b[39mreset()\n\u001b[1;32m      6\u001b[0m \u001b[38;5;28;01mwhile\u001b[39;00m game\u001b[38;5;241m.\u001b[39mwinner \u001b[38;5;241m==\u001b[39m \u001b[38;5;28;01mNone\u001b[39;00m:\n\u001b[0;32m----> 7\u001b[0m     \u001b[43magents\u001b[49m\u001b[43m[\u001b[49m\u001b[43mgame\u001b[49m\u001b[38;5;241;43m.\u001b[39;49m\u001b[43mplayer_to_act\u001b[49m\u001b[43m]\u001b[49m\u001b[38;5;241;43m.\u001b[39;49m\u001b[43mact\u001b[49m\u001b[43m(\u001b[49m\u001b[43mgame\u001b[49m\u001b[43m)\u001b[49m\n\u001b[1;32m      8\u001b[0m \u001b[38;5;28;01mfor\u001b[39;00m index, agent \u001b[38;5;129;01min\u001b[39;00m \u001b[38;5;28menumerate\u001b[39m(agents):\n\u001b[1;32m      9\u001b[0m     agent\u001b[38;5;241m.\u001b[39mget_reward(game, index)\n",
      "File \u001b[0;32m~/repository/bigtwo-zero/agents/bigtwo312.py:76\u001b[0m, in \u001b[0;36mAgent312.act\u001b[0;34m(self, game)\u001b[0m\n\u001b[1;32m     74\u001b[0m \u001b[38;5;28mself\u001b[39m\u001b[38;5;241m.\u001b[39mhistories[\u001b[38;5;241m-\u001b[39m\u001b[38;5;241m1\u001b[39m]\u001b[38;5;241m.\u001b[39mappend(obs[\u001b[38;5;124m\"\u001b[39m\u001b[38;5;124mx_batch\u001b[39m\u001b[38;5;124m\"\u001b[39m][action_index])\n\u001b[1;32m     75\u001b[0m action \u001b[38;5;241m=\u001b[39m actions[action_index]\n\u001b[0;32m---> 76\u001b[0m \u001b[43mgame\u001b[49m\u001b[38;5;241;43m.\u001b[39;49m\u001b[43mstep\u001b[49m\u001b[43m(\u001b[49m\u001b[43maction\u001b[49m\u001b[43m)\u001b[49m\n",
      "File \u001b[0;32m~/repository/bigtwo-zero/env/game.py:38\u001b[0m, in \u001b[0;36mBigtwo.step\u001b[0;34m(self, action)\u001b[0m\n\u001b[1;32m     34\u001b[0m                     player\u001b[38;5;241m.\u001b[39mlegal_actions\u001b[38;5;241m.\u001b[39mappend(action)\n\u001b[1;32m     36\u001b[0m         \u001b[38;5;28mself\u001b[39m\u001b[38;5;241m.\u001b[39mplayers\u001b[38;5;241m.\u001b[39mappend(player)\n\u001b[0;32m---> 38\u001b[0m \u001b[38;5;28;01mdef\u001b[39;00m \u001b[38;5;21mstep\u001b[39m(\u001b[38;5;28mself\u001b[39m, action: Action):\n\u001b[1;32m     39\u001b[0m     player \u001b[38;5;241m=\u001b[39m \u001b[38;5;28mself\u001b[39m\u001b[38;5;241m.\u001b[39mplayers[\u001b[38;5;28mself\u001b[39m\u001b[38;5;241m.\u001b[39mplayer_to_act]\n\u001b[1;32m     40\u001b[0m     player\u001b[38;5;241m.\u001b[39mhistory\u001b[38;5;241m.\u001b[39mappend(action\u001b[38;5;241m.\u001b[39mcode)\n",
      "\u001b[0;31mKeyboardInterrupt\u001b[0m: "
     ]
    }
   ],
   "source": [
    "for j in range(1000):\n",
    "    winners = [0, 0, 0, 0]\n",
    "    losses = [0, 0, 0, 0]\n",
    "    for i in range(100):\n",
    "        game.reset()\n",
    "        while game.winner == None:\n",
    "            agents[game.player_to_act].act(game)\n",
    "        for index, agent in enumerate(agents):\n",
    "            agent.get_reward(game, index)\n",
    "        winners[game.winner] += 1\n",
    "\n",
    "    for index, agent in enumerate(agents):\n",
    "        loss = agent.learn()\n",
    "        losses[index] = loss\n",
    "\n",
    "    if j % 250 == 0 and j > 0:\n",
    "        for index, agent in enumerate(agents):\n",
    "            agent.save(index)\n",
    "    print(winners)\n",
    "    print(losses)"
   ]
  },
  {
   "cell_type": "code",
   "execution_count": 33,
   "metadata": {},
   "outputs": [
    {
     "name": "stdout",
     "output_type": "stream",
     "text": [
      "Model and optimizer saved as checkpoints/bigtwo376-initial_20240923_150604.pth\n"
     ]
    }
   ],
   "source": [
    "agents[0].save('initial')"
   ]
  },
  {
   "cell_type": "code",
   "execution_count": 3,
   "metadata": {},
   "outputs": [
    {
     "name": "stdout",
     "output_type": "stream",
     "text": [
      "[331, 57, 57, 55]\n",
      "[330, 64, 60, 46]\n",
      "[335, 61, 48, 56]\n",
      "[336, 44, 64, 56]\n",
      "[334, 45, 58, 63]\n"
     ]
    }
   ],
   "source": [
    "from agents.random import RandomAgent\n",
    "\n",
    "\n",
    "players = [\n",
    "    agents[0],\n",
    "    RandomAgent(),\n",
    "    RandomAgent(),\n",
    "    RandomAgent(),\n",
    "]\n",
    "\n",
    "for _ in range(5):\n",
    "    winners = [0, 0, 0, 0]\n",
    "    losses = [0, 0, 0, 0]\n",
    "    for i in range(500):\n",
    "        game.reset()\n",
    "        while game.winner == None:\n",
    "            players[game.player_to_act].act(game)\n",
    "        winners[game.winner] += 1\n",
    "    print(winners)"
   ]
  },
  {
   "cell_type": "code",
   "execution_count": 4,
   "metadata": {},
   "outputs": [
    {
     "data": {
      "text/plain": [
       "312"
      ]
     },
     "execution_count": 4,
     "metadata": {},
     "output_type": "execute_result"
    }
   ],
   "source": [
    "52 + 52 + 52 * 3 + 52"
   ]
  }
 ],
 "metadata": {
  "kernelspec": {
   "display_name": "bigtwo-zero",
   "language": "python",
   "name": "python3"
  },
  "language_info": {
   "codemirror_mode": {
    "name": "ipython",
    "version": 3
   },
   "file_extension": ".py",
   "mimetype": "text/x-python",
   "name": "python",
   "nbconvert_exporter": "python",
   "pygments_lexer": "ipython3",
   "version": "3.12.0"
  }
 },
 "nbformat": 4,
 "nbformat_minor": 2
}
