{
 "cells": [
  {
   "cell_type": "code",
   "execution_count": 1,
   "metadata": {},
   "outputs": [],
   "source": [
    "from competition.always_last_one import (\n",
    "    get_possible_actions,\n",
    "    cards_to_code_point,\n",
    "    code_point_to_cards,\n",
    ")\n",
    "\n",
    "\n",
    "actions = get_possible_actions(\n",
    "    cards_to_code_point(\n",
    "        [\"JD\", \"JS\", \"4H\", \"JC\", \"AD\", \"TS\", \"6D\", \"TD\", \"2H\", \"8S\", \"3C\", \"2D\", \"4C\"]\n",
    "    )\n",
    ")"
   ]
  },
  {
   "cell_type": "code",
   "execution_count": 2,
   "metadata": {},
   "outputs": [],
   "source": [
    "import numpy as np\n",
    "\n",
    "from competition.always_last_one import Action, get_max_index, stright_matrix\n",
    "\n",
    "\n",
    "def trick2action(cards):\n",
    "    code_point = cards_to_code_point(cards)\n",
    "    if np.sum(code_point) == 5:\n",
    "        s_sum = code_point.reshape(13, 4).sum(axis=1)\n",
    "        r_sum = code_point.reshape(13, 4).T.sum(axis=1)\n",
    "        trick_type = None\n",
    "        critical_card = None\n",
    "        is_fullhouse = np.any(s_sum == 3)\n",
    "        is_fourkind = np.any(s_sum == 4)\n",
    "        if is_fullhouse:\n",
    "            rank = np.where(s_sum == 3)[0][0]\n",
    "            critical_card = get_max_index(code_point[rank * 4 : (rank + 1) * 4])\n",
    "            critical_card = rank * 4 + critical_card\n",
    "            trick_type = 2\n",
    "            return Action(code_point, critical_card, trick_type)\n",
    "        if is_fourkind:\n",
    "            rank = np.where(s_sum == 4)[0][0]\n",
    "            critical_card = get_max_index(code_point[rank * 4 : (rank + 1) * 4])\n",
    "            critical_card = rank * 4 + critical_card\n",
    "            trick_type = 3\n",
    "            return Action(code_point, critical_card, trick_type)\n",
    "\n",
    "        critical_card = get_max_index(code_point)\n",
    "        is_straight = stright_matrix[\n",
    "            np.sum(np.bitwise_and(stright_matrix, s_sum != 0), axis=1) == 5\n",
    "        ].any()\n",
    "        is_flush = np.any(r_sum == 5)\n",
    "        if is_straight and is_flush:\n",
    "            return Action(code_point, critical_card, 4)\n",
    "        elif is_flush:\n",
    "            return Action(code_point, critical_card, 1)\n",
    "        else:\n",
    "            return Action(code_point, critical_card, 0)\n",
    "    else:\n",
    "        critical_card = get_max_index(code_point)\n",
    "        return Action(code_point, critical_card, 0)"
   ]
  },
  {
   "cell_type": "code",
   "execution_count": 3,
   "metadata": {},
   "outputs": [],
   "source": [
    "tb = trick2action([\"8D\", \"8C\", \"AC\", \"AH\", \"AS\"])"
   ]
  },
  {
   "cell_type": "code",
   "execution_count": 9,
   "metadata": {},
   "outputs": [],
   "source": [
    "from competition.always_last_one import get_legal_actions\n",
    "\n",
    "\n",
    "legal = get_legal_actions(actions, tb)"
   ]
  },
  {
   "cell_type": "code",
   "execution_count": 7,
   "metadata": {},
   "outputs": [],
   "source": [
    "tb.critical_card = 0"
   ]
  },
  {
   "cell_type": "code",
   "execution_count": 10,
   "metadata": {},
   "outputs": [
    {
     "data": {
      "text/plain": [
       "[[],\n",
       " ['4C', '4H', 'JD', 'JC', 'JS'],\n",
       " ['TD', 'TS', 'JD', 'JC', 'JS'],\n",
       " ['JD', 'JC', 'JS', '2D', '2H']]"
      ]
     },
     "execution_count": 10,
     "metadata": {},
     "output_type": "execute_result"
    }
   ],
   "source": [
    "[code_point_to_cards(a.code) for a in legal]"
   ]
  },
  {
   "cell_type": "code",
   "execution_count": 11,
   "metadata": {},
   "outputs": [
    {
     "data": {
      "text/plain": [
       "[0, 35, 35, 35]"
      ]
     },
     "execution_count": 11,
     "metadata": {},
     "output_type": "execute_result"
    }
   ],
   "source": [
    "[a.critical_card for a in legal]"
   ]
  },
  {
   "cell_type": "code",
   "execution_count": 14,
   "metadata": {},
   "outputs": [
    {
     "data": {
      "text/plain": [
       "array([ True, False,  True, False])"
      ]
     },
     "execution_count": 14,
     "metadata": {},
     "output_type": "execute_result"
    }
   ],
   "source": [
    "np.array([1,0,1,0], dtype=bool)"
   ]
  },
  {
   "cell_type": "code",
   "execution_count": 15,
   "metadata": {},
   "outputs": [],
   "source": [
    "arr = [\n",
    "    cards_to_code_point(\n",
    "        [\n",
    "            \"JD\",\n",
    "            \"JS\",\n",
    "            \"4H\",\n",
    "            \"JC\",\n",
    "            \"AD\",\n",
    "            \"TS\",\n",
    "            \"6D\",\n",
    "        ]\n",
    "    ),\n",
    "    cards_to_code_point([\"TD\", \"2H\", \"8S\", \"3C\", \"2D\", \"4C\"]),\n",
    "]"
   ]
  },
  {
   "cell_type": "code",
   "execution_count": 24,
   "metadata": {},
   "outputs": [
    {
     "data": {
      "text/plain": [
       "[0, 1, 2, 3, 4]"
      ]
     },
     "execution_count": 24,
     "metadata": {},
     "output_type": "execute_result"
    }
   ],
   "source": [
    "[0, *[i for i in range(1, 5)]]"
   ]
  },
  {
   "cell_type": "code",
   "execution_count": 26,
   "metadata": {},
   "outputs": [
    {
     "data": {
      "text/plain": [
       "[]"
      ]
     },
     "execution_count": 26,
     "metadata": {},
     "output_type": "execute_result"
    }
   ],
   "source": [
    "code_point_to_cards(np.bitwise_or.reduce([np.zeros(52, dtype=bool), *[]]))"
   ]
  }
 ],
 "metadata": {
  "kernelspec": {
   "display_name": "bigtwo-zero",
   "language": "python",
   "name": "python3"
  },
  "language_info": {
   "codemirror_mode": {
    "name": "ipython",
    "version": 3
   },
   "file_extension": ".py",
   "mimetype": "text/x-python",
   "name": "python",
   "nbconvert_exporter": "python",
   "pygments_lexer": "ipython3",
   "version": "3.12.0"
  }
 },
 "nbformat": 4,
 "nbformat_minor": 2
}
