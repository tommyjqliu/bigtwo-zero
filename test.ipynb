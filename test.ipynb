{
 "cells": [
  {
   "cell_type": "code",
   "execution_count": 44,
   "metadata": {},
   "outputs": [],
   "source": [
    "from competition.always_last_one import (\n",
    "    get_possible_actions,\n",
    "    cards_to_code_point,\n",
    "    code_point_to_cards,\n",
    ")\n",
    "\n",
    "\n",
    "actions = get_possible_actions(\n",
    "    cards_to_code_point(\n",
    "        ['7D', '7C', '6C', '4H', 'TH', 'JC', '6H', '4C', '3C', 'AC', '9D', '3H', '9H']\n",
    "    )\n",
    ")"
   ]
  },
  {
   "cell_type": "code",
   "execution_count": 45,
   "metadata": {},
   "outputs": [
    {
     "data": {
      "text/plain": [
       "[['3C'],\n",
       " ['3H'],\n",
       " ['4C'],\n",
       " ['4H'],\n",
       " ['6C'],\n",
       " ['6H'],\n",
       " ['7D'],\n",
       " ['7C'],\n",
       " ['9D'],\n",
       " ['9H'],\n",
       " ['TH'],\n",
       " ['JC'],\n",
       " ['AC'],\n",
       " ['3C', '3H'],\n",
       " ['4C', '4H'],\n",
       " ['6C', '6H'],\n",
       " ['7D', '7C'],\n",
       " ['9D', '9H'],\n",
       " ['3C', '4C', '6C', '7C', 'JC'],\n",
       " ['3C', '4C', '6C', '7C', 'AC'],\n",
       " ['3C', '4C', '6C', 'JC', 'AC'],\n",
       " ['3C', '4C', '7C', 'JC', 'AC'],\n",
       " ['3C', '6C', '7C', 'JC', 'AC'],\n",
       " ['4C', '6C', '7C', 'JC', 'AC'],\n",
       " ['3H', '4H', '6H', '9H', 'TH']]"
      ]
     },
     "execution_count": 45,
     "metadata": {},
     "output_type": "execute_result"
    }
   ],
   "source": [
    "[code_point_to_cards(action.code) for action in actions]"
   ]
  },
  {
   "cell_type": "code",
   "execution_count": 42,
   "metadata": {},
   "outputs": [
    {
     "data": {
      "text/plain": [
       "['3C', '3H', '4C', '4H', '6C', '6H', '7D', '7C', '9D', '9H', 'TH', 'JC', 'AC']"
      ]
     },
     "execution_count": 42,
     "metadata": {},
     "output_type": "execute_result"
    }
   ],
   "source": [
    "code_point_to_cards(\n",
    "    cards_to_code_point(\n",
    "        ['7D', '7C', '6C', '4H', 'TH', 'JC', '6H', '4C', '3C', 'AC', '9D', '3H', '9H']\n",
    "    )\n",
    ")"
   ]
  },
  {
   "cell_type": "code",
   "execution_count": null,
   "metadata": {},
   "outputs": [],
   "source": [
    "actions = get_possible_actions(\n",
    "    cards_to_code_point(\n",
    "        [\"JD\", \"JS\", \"4H\", \"JC\", \"AD\", \"TS\", \"6D\", \"TD\", \"2H\", \"8S\", \"3C\", \"2D\", \"4C\"]\n",
    "    )\n",
    ")"
   ]
  },
  {
   "cell_type": "code",
   "execution_count": null,
   "metadata": {},
   "outputs": [],
   "source": [
    "from agents.bigtwo156 import Agent156\n",
    "import torch\n",
    "\n",
    "\n",
    "def round_list(arr):\n",
    "    if isinstance(arr[0], list):\n",
    "        return [round_list(sub_arr) for sub_arr in arr]\n",
    "    else:\n",
    "        return [round(item, 6) for item in arr]\n",
    "\n",
    "\n",
    "full_agent = Agent156(\"cuda:0\")\n",
    "half_agent = Agent156(\"cuda:0\")\n",
    "half_state_dict = full_agent.model.state_dict()\n",
    "state_dict_serializable = {\n",
    "    key: round_list(value.tolist()) for key, value in half_state_dict.items()\n",
    "}\n",
    "print(state_dict_serializable[\"dense1.weight\"][0])\n",
    "state_dict_tensor = {key: torch.tensor(value) for key, value in half_state_dict.items()}"
   ]
  },
  {
   "cell_type": "code",
   "execution_count": null,
   "metadata": {},
   "outputs": [],
   "source": [
    "half_agent.model.load_state_dict(state_dict_tensor)\n",
    "from agents.bigtwo156 import Bigtwo156Numpy\n",
    "\n",
    "\n",
    "numpy_model = Bigtwo156Numpy(state_dict_serializable)\n",
    "x = torch.randn(2, 156).to(\"cuda:0\")\n",
    "np_x = x.cpu().numpy()"
   ]
  },
  {
   "cell_type": "code",
   "execution_count": null,
   "metadata": {},
   "outputs": [],
   "source": [
    "half_agent.model.forward(x)"
   ]
  },
  {
   "cell_type": "code",
   "execution_count": null,
   "metadata": {},
   "outputs": [],
   "source": [
    "numpy_model.forward(np_x)"
   ]
  },
  {
   "cell_type": "code",
   "execution_count": 36,
   "metadata": {},
   "outputs": [
    {
     "data": {
      "text/plain": [
       "array([ True, False])"
      ]
     },
     "execution_count": 36,
     "metadata": {},
     "output_type": "execute_result"
    }
   ],
   "source": [
    "import numpy as np\n",
    "\n",
    "np.bitwise_or.reduce(np.array([[True, False], [False, False]], dtype=bool), axis=0)"
   ]
  },
  {
   "cell_type": "code",
   "execution_count": 40,
   "metadata": {},
   "outputs": [
    {
     "data": {
      "text/plain": [
       "False"
      ]
     },
     "execution_count": 40,
     "metadata": {},
     "output_type": "execute_result"
    }
   ],
   "source": [
    "([1] and False)"
   ]
  },
  {
   "cell_type": "code",
   "execution_count": 41,
   "metadata": {},
   "outputs": [
    {
     "data": {
      "text/plain": [
       "[1, 2]"
      ]
     },
     "execution_count": 41,
     "metadata": {},
     "output_type": "execute_result"
    }
   ],
   "source": [
    "[1,2,3][:2]"
   ]
  },
  {
   "cell_type": "code",
   "execution_count": null,
   "metadata": {},
   "outputs": [],
   "source": [
    "['7D', '7C', '6C', '4H', 'TH', 'JC', '6H', '4C', '3C', 'AC', '9D', '3H', '9H']"
   ]
  },
  {
   "cell_type": "code",
   "execution_count": 2,
   "metadata": {},
   "outputs": [],
   "source": [
    "import numpy as np\n",
    "\n",
    "x = np.concatenate([np.array([1,2,3]), np.array([4,5,6])])"
   ]
  },
  {
   "cell_type": "code",
   "execution_count": 3,
   "metadata": {},
   "outputs": [],
   "source": [
    "x_batch = np.tile(x, (5, 1))"
   ]
  },
  {
   "cell_type": "code",
   "execution_count": 4,
   "metadata": {},
   "outputs": [
    {
     "data": {
      "text/plain": [
       "array([[1, 2, 3, 4, 5, 6],\n",
       "       [1, 2, 3, 4, 5, 6],\n",
       "       [1, 2, 3, 4, 5, 6],\n",
       "       [1, 2, 3, 4, 5, 6],\n",
       "       [1, 2, 3, 4, 5, 6]])"
      ]
     },
     "execution_count": 4,
     "metadata": {},
     "output_type": "execute_result"
    }
   ],
   "source": [
    "x_batch "
   ]
  }
 ],
 "metadata": {
  "kernelspec": {
   "display_name": "bigtwo-zero",
   "language": "python",
   "name": "python3"
  },
  "language_info": {
   "codemirror_mode": {
    "name": "ipython",
    "version": 3
   },
   "file_extension": ".py",
   "mimetype": "text/x-python",
   "name": "python",
   "nbconvert_exporter": "python",
   "pygments_lexer": "ipython3",
   "version": "3.12.0"
  }
 },
 "nbformat": 4,
 "nbformat_minor": 2
}
