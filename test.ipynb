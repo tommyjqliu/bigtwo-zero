{
 "cells": [
  {
   "cell_type": "code",
   "execution_count": 1,
   "metadata": {},
   "outputs": [],
   "source": [
    "from competition.always_last_one import (\n",
    "    get_possible_actions,\n",
    "    cards_to_code_point,\n",
    "    code_point_to_cards,\n",
    ")\n",
    "\n",
    "\n",
    "actions = get_possible_actions(\n",
    "    cards_to_code_point(\n",
    "        [\"JD\", \"JS\", \"4H\", \"JC\", \"AD\", \"TS\", \"6D\", \"TD\", \"2H\", \"8S\", \"3C\", \"2D\", \"4C\"]\n",
    "    )\n",
    ")"
   ]
  },
  {
   "cell_type": "code",
   "execution_count": 24,
   "metadata": {},
   "outputs": [
    {
     "data": {
      "text/plain": [
       "[0, 1, 2, 3, 4]"
      ]
     },
     "execution_count": 24,
     "metadata": {},
     "output_type": "execute_result"
    }
   ],
   "source": [
    "[0, *[i for i in range(1, 5)]]"
   ]
  },
  {
   "cell_type": "code",
   "execution_count": 27,
   "metadata": {},
   "outputs": [
    {
     "data": {
      "text/plain": [
       "['3S', '5D', '5H', '5S', '6H', '7C', '9H', 'TS', 'JH', 'QH', 'QS', 'KD', 'KS']"
      ]
     },
     "execution_count": 27,
     "metadata": {},
     "output_type": "execute_result"
    }
   ],
   "source": [
    "code_point_to_cards(\n",
    "    cards_to_code_point(\n",
    "        [\"5H\", \"KS\", \"7C\", \"KD\", \"9H\", \"5S\", \"JH\", \"QH\", \"3S\", \"5D\", \"TS\", \"6H\", \"QS\"]\n",
    "    )\n",
    ")"
   ]
  },
  {
   "cell_type": "code",
   "execution_count": null,
   "metadata": {},
   "outputs": [],
   "source": [
    "from agents.bigtwo156 import Agent156\n",
    "import torch\n",
    "\n",
    "\n",
    "def round_list(arr):\n",
    "    if isinstance(arr[0], list):\n",
    "        return [round_list(sub_arr) for sub_arr in arr]\n",
    "    else:\n",
    "        return [round(item, 6) for item in arr]\n",
    "\n",
    "\n",
    "full_agent = Agent156(\"cuda:0\")\n",
    "half_agent = Agent156(\"cuda:0\")\n",
    "half_state_dict = full_agent.model.state_dict()\n",
    "state_dict_serializable = {\n",
    "    key: round_list(value.tolist()) for key, value in half_state_dict.items()\n",
    "}\n",
    "print(state_dict_serializable[\"dense1.weight\"][0])\n",
    "state_dict_tensor = {key: torch.tensor(value) for key, value in half_state_dict.items()}"
   ]
  },
  {
   "cell_type": "code",
   "execution_count": null,
   "metadata": {},
   "outputs": [],
   "source": [
    "half_agent.model.load_state_dict(state_dict_tensor)\n",
    "from agents.bigtwo156 import Bigtwo156Numpy\n",
    "\n",
    "\n",
    "numpy_model = Bigtwo156Numpy(state_dict_serializable)\n",
    "x = torch.randn(2, 156).to(\"cuda:0\")\n",
    "np_x = x.cpu().numpy()"
   ]
  },
  {
   "cell_type": "code",
   "execution_count": null,
   "metadata": {},
   "outputs": [],
   "source": [
    "half_agent.model.forward(x)"
   ]
  },
  {
   "cell_type": "code",
   "execution_count": null,
   "metadata": {},
   "outputs": [],
   "source": [
    "numpy_model.forward(np_x)"
   ]
  },
  {
   "cell_type": "code",
   "execution_count": 36,
   "metadata": {},
   "outputs": [
    {
     "data": {
      "text/plain": [
       "array([ True, False])"
      ]
     },
     "execution_count": 36,
     "metadata": {},
     "output_type": "execute_result"
    }
   ],
   "source": [
    "import numpy as np\n",
    "\n",
    "np.bitwise_or.reduce(np.array([[True, False], [False, False]], dtype=bool), axis=0)"
   ]
  },
  {
   "cell_type": "code",
   "execution_count": 40,
   "metadata": {},
   "outputs": [
    {
     "data": {
      "text/plain": [
       "False"
      ]
     },
     "execution_count": 40,
     "metadata": {},
     "output_type": "execute_result"
    }
   ],
   "source": [
    "([1] and False)"
   ]
  },
  {
   "cell_type": "code",
   "execution_count": 41,
   "metadata": {},
   "outputs": [
    {
     "data": {
      "text/plain": [
       "[1, 2]"
      ]
     },
     "execution_count": 41,
     "metadata": {},
     "output_type": "execute_result"
    }
   ],
   "source": [
    "[1,2,3][:2]"
   ]
  }
 ],
 "metadata": {
  "kernelspec": {
   "display_name": "bigtwo-zero",
   "language": "python",
   "name": "python3"
  },
  "language_info": {
   "codemirror_mode": {
    "name": "ipython",
    "version": 3
   },
   "file_extension": ".py",
   "mimetype": "text/x-python",
   "name": "python",
   "nbconvert_exporter": "python",
   "pygments_lexer": "ipython3",
   "version": "3.12.0"
  }
 },
 "nbformat": 4,
 "nbformat_minor": 2
}
